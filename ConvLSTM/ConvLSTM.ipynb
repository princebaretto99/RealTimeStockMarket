{
 "cells": [
  {
   "cell_type": "code",
   "execution_count": 13,
   "metadata": {},
   "outputs": [],
   "source": [
    "import os\n",
    "import time\n",
    "import keras\n",
    "import pandas as pd\n",
    "import matplotlib.pyplot as plt\n",
    "import numpy as np\n",
    "import warnings\n",
    "warnings.filterwarnings(\"ignore\")\n",
    "from tensorflow.keras.models import load_model\n",
    "from tensorflow.keras.models import Sequential\n",
    "from tensorflow.keras.layers import LSTM,Conv1D,MaxPooling1D,GlobalAveragePooling1D\n",
    "from tensorflow.keras.layers import Dropout,Flatten,RepeatVector\n",
    "from tensorflow.keras.layers import Dense, Activation ,LeakyReLU\n",
    "from sklearn.preprocessing import MinMaxScaler\n",
    "from tensorflow.keras.models import load_model\n",
    "# from alpha_vantage.timeseries import TimeSeries\n"
   ]
  },
  {
   "cell_type": "code",
   "execution_count": 53,
   "metadata": {},
   "outputs": [],
   "source": [
    "def featureScaling(training_set):\n",
    "  sc = MinMaxScaler(feature_range=(0,1))\n",
    "  training_set_scaled = sc.fit_transform(training_set)\n",
    "  return training_set_scaled,sc\n",
    "\n",
    "def train(train_x, train_y):\n",
    "    train_x, train_y = np.array(train_x), np.array(train_y)\n",
    "    train_x = np.reshape(train_x, (train_x.shape[0], train_x.shape[1], 1))\n",
    "  \n",
    "\n",
    "    model = Sequential()\n",
    "    model.add(Conv1D(32, 4, activation='relu', input_shape=(train_x.shape[1], 1),padding=\"same\"))\n",
    "    model.add(Conv1D(32, 4, activation='relu',padding=\"same\"))\n",
    "    model.add(MaxPooling1D(2))\n",
    "    model.add(Conv1D(64, 4, activation='relu',padding=\"same\"))\n",
    "    model.add(Conv1D(128, 4, activation='relu',padding=\"same\"))\n",
    "    model.add(MaxPooling1D(2))\n",
    "    model.add(Flatten())\n",
    "    model.add(RepeatVector(1))\n",
    "    model.add(LSTM(units=100,activation='relu',return_sequences=True))\n",
    "    model.add(Dropout(0.2))\n",
    "    model.add(LSTM(units=50,activation='relu',return_sequences=True))\n",
    "    model.add(Dropout(0.2))\n",
    "    model.add(LSTM(units=25))\n",
    "    model.add(Dropout(0.2))\n",
    "    model.add(Flatten())\n",
    "    model.add(Dense(50, activation='relu'))\n",
    "    model.add(Dropout(0.2))\n",
    "#     model.add(Dense(10, activation='relu'))\n",
    "#     model.add(Dropout(0.2))\n",
    "    model.add(Dense(1, activation='sigmoid'))\n",
    "\n",
    "    model.compile(loss='mean_squared_error',\n",
    "                  optimizer='adam')\n",
    "\n",
    "#   model.compile(optimizer='adam',loss='mean_squared_error')\n",
    "\n",
    "    print(\"......GO TO SLEEP................\")\n",
    "    model.fit(train_x,train_y,epochs=50,batch_size=32)\n",
    "    print(\"......GET UP!!!!!!!!!!!!!!!\")\n",
    "\n",
    "    model.save('cnnlstm.h5')\n",
    "    return model\n",
    "\n",
    "def retrain(train_x, train_y):\n",
    "  train_x, train_y = np.array(train_x), np.array(train_y)\n",
    "  train_x = np.reshape(train_x, (train_x.shape[0], train_x.shape[1], 1))\n",
    "   \n",
    "  \n",
    "  model = load_model('weight_file.h5')\n",
    "  print(\"......GO TO SLEEP................\")\n",
    "  model.fit(train_x,train_y,epochs=30,batch_size=64)\n",
    "  print(\"......GET UP!!!!!!!!!!!!!!!\")\n",
    "  model.save(\"new.h5\")\n",
    "  return model\n",
    "\n",
    "\n",
    "\n",
    "\n",
    "def PlotGraph(predict_y, predicted_stock_price):\n",
    "  plt.plot(predict_y, color = 'yellow', label = 'Original Stock Price')\n",
    "  plt.plot(predicted_stock_price, color = 'green', label = 'Predicted Stock Price')\n",
    "  plt.title('APOLLOTYRE__EQ__NSE__NSE__MINUTE Stock Price Prediction')\n",
    "  plt.xlabel('Time')\n",
    "  plt.ylabel('APOLLOTYRE__EQ__NSE__NSE__MINUTE Stock Price')\n",
    "  plt.legend()\n",
    "  plt.show()\n",
    "\n",
    "\n",
    "def predict_value(predict_x, model):\n",
    "  predict_x = np.array(predict_x)\n",
    "  predict_x = np.reshape(predict_x, (predict_x.shape[0], predict_x.shape[1], 1))\n",
    "  predicted_y = model.predict(predict_x)\n",
    "  return predicted_y"
   ]
  },
  {
   "cell_type": "code",
   "execution_count": 15,
   "metadata": {},
   "outputs": [
    {
     "data": {
      "text/html": [
       "<div>\n",
       "<style scoped>\n",
       "    .dataframe tbody tr th:only-of-type {\n",
       "        vertical-align: middle;\n",
       "    }\n",
       "\n",
       "    .dataframe tbody tr th {\n",
       "        vertical-align: top;\n",
       "    }\n",
       "\n",
       "    .dataframe thead th {\n",
       "        text-align: right;\n",
       "    }\n",
       "</style>\n",
       "<table border=\"1\" class=\"dataframe\">\n",
       "  <thead>\n",
       "    <tr style=\"text-align: right;\">\n",
       "      <th></th>\n",
       "      <th>Unnamed: 0</th>\n",
       "      <th>timestamp</th>\n",
       "      <th>open</th>\n",
       "    </tr>\n",
       "  </thead>\n",
       "  <tbody>\n",
       "    <tr>\n",
       "      <th>0</th>\n",
       "      <td>0</td>\n",
       "      <td>2017-01-02 09:15:00+05:30</td>\n",
       "      <td>505.73</td>\n",
       "    </tr>\n",
       "    <tr>\n",
       "      <th>1</th>\n",
       "      <td>1</td>\n",
       "      <td>2017-01-02 09:30:00+05:30</td>\n",
       "      <td>502.63</td>\n",
       "    </tr>\n",
       "    <tr>\n",
       "      <th>2</th>\n",
       "      <td>2</td>\n",
       "      <td>2017-01-02 09:45:00+05:30</td>\n",
       "      <td>502.58</td>\n",
       "    </tr>\n",
       "    <tr>\n",
       "      <th>3</th>\n",
       "      <td>3</td>\n",
       "      <td>2017-01-02 10:00:00+05:30</td>\n",
       "      <td>503.68</td>\n",
       "    </tr>\n",
       "    <tr>\n",
       "      <th>4</th>\n",
       "      <td>4</td>\n",
       "      <td>2017-01-02 10:15:00+05:30</td>\n",
       "      <td>503.50</td>\n",
       "    </tr>\n",
       "  </tbody>\n",
       "</table>\n",
       "</div>"
      ],
      "text/plain": [
       "   Unnamed: 0                  timestamp    open\n",
       "0           0  2017-01-02 09:15:00+05:30  505.73\n",
       "1           1  2017-01-02 09:30:00+05:30  502.63\n",
       "2           2  2017-01-02 09:45:00+05:30  502.58\n",
       "3           3  2017-01-02 10:00:00+05:30  503.68\n",
       "4           4  2017-01-02 10:15:00+05:30  503.50"
      ]
     },
     "execution_count": 15,
     "metadata": {},
     "output_type": "execute_result"
    }
   ],
   "source": [
    "dataset_train = pd.read_csv(\"E:/Stocks Project/INFY__EQ__NSE__NSE__15__MINUTE.csv\")\n",
    "dataset_train.head()"
   ]
  },
  {
   "cell_type": "code",
   "execution_count": 16,
   "metadata": {},
   "outputs": [
    {
     "data": {
      "text/plain": [
       "[<matplotlib.lines.Line2D at 0x18c0b8ab2e8>]"
      ]
     },
     "execution_count": 16,
     "metadata": {},
     "output_type": "execute_result"
    },
    {
     "data": {
      "image/png": "[encoded data removed]",
      "text/plain": [
       "<Figure size 432x288 with 1 Axes>"
      ]
     },
     "metadata": {
      "needs_background": "light"
     },
     "output_type": "display_data"
    }
   ],
   "source": [
    "dataset_train[\"timestamp\"] = pd.to_datetime(dataset_train[\"timestamp\"])\n",
    "dataset_train.dropna(axis = 0, how ='any',inplace=True)\n",
    "plt.plot(dataset_train[\"open\"])"
   ]
  },
  {
   "cell_type": "code",
   "execution_count": 17,
   "metadata": {},
   "outputs": [],
   "source": [
    "training_set = dataset_train.iloc[:, 2:3].values"
   ]
  },
  {
   "cell_type": "code",
   "execution_count": 54,
   "metadata": {},
   "outputs": [
    {
     "name": "stdout",
     "output_type": "stream",
     "text": [
      "......GO TO SLEEP................\n",
      "Epoch 1/50\n",
      "17817/17817 [==============================] - 27s 1ms/sample - loss: 0.0101\n",
      "Epoch 2/50\n",
      "17817/17817 [==============================] - 21s 1ms/sample - loss: 0.0014\n",
      "Epoch 3/50\n",
      "17817/17817 [==============================] - 20s 1ms/sample - loss: 0.0011\n",
      "Epoch 4/50\n",
      "17817/17817 [==============================] - 20s 1ms/sample - loss: 9.8962e-04\n",
      "Epoch 5/50\n",
      "17817/17817 [==============================] - 23s 1ms/sample - loss: 9.3655e-04\n",
      "Epoch 6/50\n",
      "17817/17817 [==============================] - 20s 1ms/sample - loss: 8.7108e-04\n",
      "Epoch 7/50\n",
      "17817/17817 [==============================] - 21s 1ms/sample - loss: 8.5477e-04\n",
      "Epoch 8/50\n",
      "17817/17817 [==============================] - 22s 1ms/sample - loss: 8.3326e-04\n",
      "Epoch 9/50\n",
      "17817/17817 [==============================] - 20s 1ms/sample - loss: 8.0335e-04\n",
      "Epoch 10/50\n",
      "17817/17817 [==============================] - 20s 1ms/sample - loss: 7.7688e-04\n",
      "Epoch 11/50\n",
      "17817/17817 [==============================] - 20s 1ms/sample - loss: 7.7135e-04\n",
      "Epoch 12/50\n",
      "17817/17817 [==============================] - 20s 1ms/sample - loss: 7.5144e-04\n",
      "Epoch 13/50\n",
      "17817/17817 [==============================] - 20s 1ms/sample - loss: 7.3073e-04\n",
      "Epoch 14/50\n",
      "17817/17817 [==============================] - 20s 1ms/sample - loss: 6.9432e-04\n",
      "Epoch 15/50\n",
      "17817/17817 [==============================] - 20s 1ms/sample - loss: 7.3152e-04\n",
      "Epoch 16/50\n",
      "17817/17817 [==============================] - 20s 1ms/sample - loss: 7.2699e-04\n",
      "Epoch 17/50\n",
      "17817/17817 [==============================] - 21s 1ms/sample - loss: 7.0041e-04\n",
      "Epoch 18/50\n",
      "17817/17817 [==============================] - 22s 1ms/sample - loss: 7.0404e-04\n",
      "Epoch 19/50\n",
      "17817/17817 [==============================] - 22s 1ms/sample - loss: 6.8622e-04\n",
      "Epoch 20/50\n",
      "17817/17817 [==============================] - 20s 1ms/sample - loss: 6.7108e-04\n",
      "Epoch 21/50\n",
      "17817/17817 [==============================] - 20s 1ms/sample - loss: 6.6923e-04\n",
      "Epoch 22/50\n",
      "17817/17817 [==============================] - 22s 1ms/sample - loss: 6.5361e-04\n",
      "Epoch 23/50\n",
      "17817/17817 [==============================] - 22s 1ms/sample - loss: 6.6223e-04\n",
      "Epoch 24/50\n",
      "17817/17817 [==============================] - 21s 1ms/sample - loss: 6.5895e-04\n",
      "Epoch 25/50\n",
      "17817/17817 [==============================] - 21s 1ms/sample - loss: 6.3673e-04\n",
      "Epoch 26/50\n",
      "17817/17817 [==============================] - 21s 1ms/sample - loss: 6.6884e-04\n",
      "Epoch 27/50\n",
      "17817/17817 [==============================] - 21s 1ms/sample - loss: 6.3446e-04\n",
      "Epoch 28/50\n",
      "17817/17817 [==============================] - 22s 1ms/sample - loss: 6.3208e-04\n",
      "Epoch 29/50\n",
      "17817/17817 [==============================] - 21s 1ms/sample - loss: 6.3163e-04\n",
      "Epoch 30/50\n",
      "17817/17817 [==============================] - 21s 1ms/sample - loss: 6.2598e-04\n",
      "Epoch 31/50\n",
      "17817/17817 [==============================] - 22s 1ms/sample - loss: 6.1683e-04\n",
      "Epoch 32/50\n",
      "17817/17817 [==============================] - 21s 1ms/sample - loss: 6.2814e-04\n",
      "Epoch 33/50\n",
      "17817/17817 [==============================] - 21s 1ms/sample - loss: 6.2034e-04\n",
      "Epoch 34/50\n",
      "17817/17817 [==============================] - 21s 1ms/sample - loss: 6.0875e-04\n",
      "Epoch 35/50\n",
      "17817/17817 [==============================] - 20s 1ms/sample - loss: 6.1741e-04\n",
      "Epoch 36/50\n",
      "17817/17817 [==============================] - 21s 1ms/sample - loss: 6.0284e-04\n",
      "Epoch 37/50\n",
      "17817/17817 [==============================] - 20s 1ms/sample - loss: 6.1806e-04\n",
      "Epoch 38/50\n",
      "17817/17817 [==============================] - 20s 1ms/sample - loss: 6.0380e-04\n",
      "Epoch 39/50\n",
      "17817/17817 [==============================] - 22s 1ms/sample - loss: 5.9448e-04\n",
      "Epoch 40/50\n",
      "17817/17817 [==============================] - 22s 1ms/sample - loss: 5.8643e-04\n",
      "Epoch 41/50\n",
      "17817/17817 [==============================] - 21s 1ms/sample - loss: 5.9463e-04\n",
      "Epoch 42/50\n",
      "17817/17817 [==============================] - 21s 1ms/sample - loss: 5.8081e-04\n",
      "Epoch 43/50\n",
      "17817/17817 [==============================] - 22s 1ms/sample - loss: 6.0135e-04\n",
      "Epoch 44/50\n",
      "17817/17817 [==============================] - 21s 1ms/sample - loss: 5.8860e-04\n",
      "Epoch 45/50\n",
      "17817/17817 [==============================] - 20s 1ms/sample - loss: 5.9753e-04\n",
      "Epoch 46/50\n",
      "17817/17817 [==============================] - 21s 1ms/sample - loss: 6.0033e-04\n",
      "Epoch 47/50\n",
      "17817/17817 [==============================] - 25s 1ms/sample - loss: 5.6852e-04\n",
      "Epoch 48/50\n",
      "17817/17817 [==============================] - 21s 1ms/sample - loss: 5.7896e-04\n",
      "Epoch 49/50\n",
      "17817/17817 [==============================] - 20s 1ms/sample - loss: 5.8544e-04\n",
      "Epoch 50/50\n",
      "17817/17817 [==============================] - 20s 1ms/sample - loss: 6.0604e-04\n",
      "......GET UP!!!!!!!!!!!!!!!\n"
     ]
    }
   ],
   "source": [
    "training_set_scaled,sc = featureScaling(training_set)\n",
    "\n",
    "partition = int(len(training_set_scaled)*0.1)\n",
    "start_of_test_set = len(training_set_scaled)- partition\n",
    "\n",
    "train_x =[]\n",
    "train_y =[]\n",
    "for i in range(40, len(training_set_scaled)-partition):\n",
    "    train_x.append(training_set_scaled[i-40:i, 0])\n",
    "    train_y.append(training_set_scaled[i, 0])\n",
    "\n",
    "\n",
    "predict_x =[]\n",
    "predict_y =[]\n",
    "for i in range(start_of_test_set, len(training_set_scaled)):\n",
    "    predict_x.append(training_set_scaled[i-40:i, 0])\n",
    "    predict_y.append(training_set_scaled[i, 0])\n",
    "\n",
    "\n",
    "model = train(train_x, train_y)\n",
    "\n"
   ]
  },
  {
   "cell_type": "code",
   "execution_count": 55,
   "metadata": {},
   "outputs": [
    {
     "data": {
      "image/png": "[encoded data removed]",
      "text/plain": [
       "<Figure size 432x288 with 1 Axes>"
      ]
     },
     "metadata": {
      "needs_background": "light"
     },
     "output_type": "display_data"
    }
   ],
   "source": [
    "predict_x, predict_y = np.array(predict_x), np.array(predict_y)\n",
    "predict_x = np.reshape(predict_x, (predict_x.shape[0], predict_x.shape[1], 1))\n",
    "\n",
    "predicted_y = model.predict(predict_x)\n",
    "predicted_stock_price = sc.inverse_transform(predicted_y)\n",
    "predict_y=predict_y.reshape(-1,1)\n",
    "predict_y = sc.inverse_transform(predict_y)\n",
    "\n",
    "PlotGraph(predict_y, predicted_stock_price)"
   ]
  },
  {
   "cell_type": "code",
   "execution_count": 56,
   "metadata": {},
   "outputs": [
    {
     "name": "stdout",
     "output_type": "stream",
     "text": [
      "RMSE is : 5.16707887985001\n",
      "MAE is : 4.080103068197926\n"
     ]
    }
   ],
   "source": [
    "from sklearn.metrics import mean_squared_error\n",
    "from math import sqrt\n",
    "rmse = sqrt(mean_squared_error(predict_y, predicted_stock_price))\n",
    "print(f\"RMSE is : {rmse}\")\n",
    "\n",
    "from sklearn.metrics import mean_absolute_error\n",
    "mae = mean_absolute_error(predict_y,predicted_stock_price)\n",
    "print(f\"MAE is : {mae}\")"
   ]
  }
 ],
 "metadata": {
  "kernelspec": {
   "display_name": "Python 3.6.9 64-bit ('py36': conda)",
   "language": "python",
   "name": "python36964bitpy36conda2f9b497834cd4d108c2665dafb1bae41"
  },
  "language_info": {
   "codemirror_mode": {
    "name": "ipython",
    "version": 3
   },
   "file_extension": ".py",
   "mimetype": "text/x-python",
   "name": "python",
   "nbconvert_exporter": "python",
   "pygments_lexer": "ipython3",
   "version": "3.6.9"
  }
 },
 "nbformat": 4,
 "nbformat_minor": 2
}
